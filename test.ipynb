{
 "cells": [
  {
   "cell_type": "code",
   "execution_count": null,
   "metadata": {},
   "outputs": [],
   "source": [
    "\n",
    "import nest_asyncio\n",
    "import asyncio\n",
    "from tortoise import Tortoise, run_async\n",
    "from models import User\n",
    " \n",
    "# Apply nest_asyncio to allow running asyncio in Jupyter\n",
    "nest_asyncio.apply()\n",
    "\n",
    "# Database configuration\n",
    "DB_CONFIG = {\n",
    "    'connections': {\n",
    "        'default': 'sqlite://test.sqlite3'\n",
    "    },\n",
    "    'apps': {\n",
    "        'models': {\n",
    "            'models': ['models'],  # Referencing models in the models.py file\n",
    "            'default_connection': 'default',\n",
    "        }\n",
    "    }\n",
    "}\n",
    "\n",
    "# Initialize Tortoise-ORM\n",
    "async def init():\n",
    "    await Tortoise.init(config=DB_CONFIG)\n",
    "    await Tortoise.generate_schemas()\n",
    "\n",
    "# Run the initialization\n",
    "run_async(init())\n"
   ]
  },
  {
   "cell_type": "code",
   "execution_count": null,
   "metadata": {},
   "outputs": [],
   "source": []
  },
  {
   "cell_type": "code",
   "execution_count": null,
   "metadata": {},
   "outputs": [],
   "source": [
    "#CreateUser\n",
    "async def create_user(username, email):\n",
    "    existing_user = await User.filter(email=email).first()\n",
    "    if existing_user:\n",
    "        print('User with this email already exists. Cannot be created.')\n",
    "        return None\n",
    "    user = await User.create(username=username, email=email)\n",
    "    return user"
   ]
  },
  {
   "cell_type": "code",
   "execution_count": 30,
   "metadata": {},
   "outputs": [
    {
     "name": "stdout",
     "output_type": "stream",
     "text": [
      "3 ifiokambrose ifiokambrose@gmail.com\n"
     ]
    }
   ],
   "source": [
    "new_user = await create_user('ifiokambrose', 'ifiokambrose@gmail.com')\n",
    "if new_user:\n",
    "    print(new_user.id, new_user.username, new_user.email)"
   ]
  },
  {
   "cell_type": "code",
   "execution_count": null,
   "metadata": {},
   "outputs": [],
   "source": [
    "#UpdateUser\n",
    "async def update_user(user_id, new_username):\n",
    "    user = await User.get(id=user_id)\n",
    "    user.username = new_username\n",
    "    await user.save()"
   ]
  },
  {
   "cell_type": "code",
   "execution_count": 26,
   "metadata": {},
   "outputs": [],
   "source": [
    "#UPDATE\n",
    "await update_user(2, 'ifiok')"
   ]
  },
  {
   "cell_type": "code",
   "execution_count": 31,
   "metadata": {},
   "outputs": [
    {
     "name": "stdout",
     "output_type": "stream",
     "text": [
      "3 ifiokambrose ifiokambrose@gmail.com\n"
     ]
    }
   ],
   "source": [
    "#GetAllUsers\n",
    "async def get_users():\n",
    "    users = await User.all()\n",
    "    return users\n",
    "\n",
    "users = await get_users()\n",
    "for user in users:\n",
    "    print(user.id, user.username, user.email)\n"
   ]
  },
  {
   "cell_type": "code",
   "execution_count": 33,
   "metadata": {},
   "outputs": [],
   "source": [
    "#Delete\n",
    "async def delete_user(tg_id):\n",
    "    user = await User.get(id=tg_id)\n",
    "    await user.delete()\n",
    "\n",
    "await delete_user(3)\n"
   ]
  }
 ],
 "metadata": {
  "kernelspec": {
   "display_name": "Python 3.10.12 64-bit",
   "language": "python",
   "name": "python3"
  },
  "language_info": {
   "codemirror_mode": {
    "name": "ipython",
    "version": 3
   },
   "file_extension": ".py",
   "mimetype": "text/x-python",
   "name": "python",
   "nbconvert_exporter": "python",
   "pygments_lexer": "ipython3",
   "version": "3.10.12"
  },
  "orig_nbformat": 4,
  "vscode": {
   "interpreter": {
    "hash": "916dbcbb3f70747c44a77c7bcd40155683ae19c65e1c03b4aa3499c5328201f1"
   }
  }
 },
 "nbformat": 4,
 "nbformat_minor": 2
}
