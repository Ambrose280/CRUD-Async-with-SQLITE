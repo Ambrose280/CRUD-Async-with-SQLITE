{
 "cells": [
  {
   "cell_type": "code",
   "execution_count": null,
   "metadata": {},
   "outputs": [],
   "source": [
    "\n",
    "import nest_asyncio\n",
    "import asyncio\n",
    "from tortoise import Tortoise, run_async\n",
    "from models import User\n",
    " \n",
    "# Apply nest_asyncio to allow running asyncio in Jupyter\n",
    "nest_asyncio.apply()\n",
    "\n",
    "# Database configuration\n",
    "DB_CONFIG = {\n",
    "    'connections': {\n",
    "        'default': 'sqlite://test.sqlite3'\n",
    "    },\n",
    "    'apps': {\n",
    "        'models': {\n",
    "            'models': ['models'],  # Referencing models in the models.py file\n",
    "            'default_connection': 'default',\n",
    "        }\n",
    "    }\n",
    "}\n",
    "\n",
    "# Initialize Tortoise-ORM\n",
    "async def init():\n",
    "    await Tortoise.init(config=DB_CONFIG)\n",
    "    await Tortoise.generate_schemas()\n",
    "\n",
    "# Run the initialization\n",
    "run_async(init())\n"
   ]
  },
  {
   "cell_type": "code",
   "execution_count": null,
   "metadata": {},
   "outputs": [],
   "source": [
    "#CreateUser\n",
    "async def create_user(telegram_id, gamepts):\n",
    "    existing_user = await User.filter(telegram_id=telegram_id).first()\n",
    "    if existing_user:\n",
    "        print('User with this ID already exists. Cannot be created.')\n",
    "        return None\n",
    "    user = await User.create(telegram_id=telegram_id, gamepts=gamepts)\n",
    "    return user"
   ]
  },
  {
   "cell_type": "code",
   "execution_count": 16,
   "metadata": {},
   "outputs": [
    {
     "name": "stdout",
     "output_type": "stream",
     "text": [
      "User with this ID already exists. Cannot be created.\n"
     ]
    }
   ],
   "source": [
    "new_user = await create_user('ifiokambrose', 900)\n",
    "if new_user:\n",
    "    print(new_user.id, new_user.telegram_id, new_user.gamepts)"
   ]
  },
  {
   "cell_type": "code",
   "execution_count": 14,
   "metadata": {},
   "outputs": [],
   "source": [
    "#UpdateUser\n",
    "async def update_user(user_id, gamepts):\n",
    "    user = await User.get(id=user_id)\n",
    "    user.gamepts = gamepts\n",
    "    await user.save()"
   ]
  },
  {
   "cell_type": "code",
   "execution_count": 15,
   "metadata": {},
   "outputs": [],
   "source": [
    "#UPDATE\n",
    "await update_user(2, 889)"
   ]
  },
  {
   "cell_type": "code",
   "execution_count": 17,
   "metadata": {},
   "outputs": [
    {
     "name": "stdout",
     "output_type": "stream",
     "text": [
      "2 ifiokambrose 889\n"
     ]
    }
   ],
   "source": [
    "#GetAllUsers\n",
    "async def get_users():\n",
    "    users = await User.all()\n",
    "    return users\n",
    "\n",
    "users = await get_users()\n",
    "for user in users:\n",
    "    print(user.id, user.telegram_id, user.gamepts)\n"
   ]
  },
  {
   "cell_type": "code",
   "execution_count": 11,
   "metadata": {},
   "outputs": [],
   "source": [
    "#Delete\n",
    "async def delete_user(tg_id):\n",
    "    user = await User.get(id=tg_id)\n",
    "    await user.delete()\n",
    "\n",
    "await delete_user(1)\n"
   ]
  }
 ],
 "metadata": {
  "kernelspec": {
   "display_name": "Python 3.10.12 64-bit",
   "language": "python",
   "name": "python3"
  },
  "language_info": {
   "codemirror_mode": {
    "name": "ipython",
    "version": 3
   },
   "file_extension": ".py",
   "mimetype": "text/x-python",
   "name": "python",
   "nbconvert_exporter": "python",
   "pygments_lexer": "ipython3",
   "version": "3.10.12"
  },
  "orig_nbformat": 4,
  "vscode": {
   "interpreter": {
    "hash": "916dbcbb3f70747c44a77c7bcd40155683ae19c65e1c03b4aa3499c5328201f1"
   }
  }
 },
 "nbformat": 4,
 "nbformat_minor": 2
}
